{
 "cells": [
  {
   "cell_type": "code",
   "execution_count": 1,
   "metadata": {},
   "outputs": [],
   "source": [
    "import numpy as np"
   ]
  },
  {
   "cell_type": "code",
   "execution_count": 16,
   "metadata": {},
   "outputs": [],
   "source": [
    "import pandas as pd"
   ]
  },
  {
   "cell_type": "code",
   "execution_count": 32,
   "metadata": {},
   "outputs": [],
   "source": [
    "import nltk"
   ]
  },
  {
   "cell_type": "code",
   "execution_count": 30,
   "metadata": {},
   "outputs": [],
   "source": [
    "import re"
   ]
  },
  {
   "cell_type": "code",
   "execution_count": 3,
   "metadata": {},
   "outputs": [],
   "source": [
    "import os"
   ]
  },
  {
   "cell_type": "code",
   "execution_count": 41,
   "metadata": {},
   "outputs": [],
   "source": [
    "from sklearn.metrics import accuracy_score"
   ]
  },
  {
   "cell_type": "code",
   "execution_count": 26,
   "metadata": {},
   "outputs": [],
   "source": [
    "class TokenizedDataFrame():\n",
    "    __slots__ = ['stopwords', 'stemmed_dict']\n",
    "    \n",
    "    def __init__(self, stopwords):\n",
    "        self.stopwords = stopwords\n",
    "        self.stemmed_dict = None\n",
    "        \n",
    "    \n",
    "    def prepare_text(self, doc):\n",
    "        doc = re.sub(r'[^\\w\\s]','',doc)\n",
    "        doc = doc.lower()\n",
    "        doc = nltk.word_tokenize(doc)\n",
    "        doc = [word for word in doc if word not in self.stopwords]\n",
    "        return doc\n",
    "    \n",
    "    \n",
    "    def apply_stemming(self, df):\n",
    "        all_words = list()\n",
    "\n",
    "        for item in list(df):\n",
    "            all_words.extend(item)\n",
    "    \n",
    "        unique_words = list(set(all_words))\n",
    "        \n",
    "        self.stemmed_dict = dict()\n",
    "        unique_words_stemmer = stemmer.stem(unique_words, parser)\n",
    "\n",
    "        for item in unique_words_stemmer:\n",
    "            original = item[0]\n",
    "            try:\n",
    "                stemmed = list(item[1])[0]\n",
    "                self.stemmed_dict[original] = stemmed\n",
    "            except IndexError:\n",
    "                self.stemmed_dict[original] = stemmed\n",
    "        \n",
    "        \n",
    "        missings = {item:item for item in unique_words if item not in self.stemmed_dict.keys()}\n",
    "        self.stemmed_dict.update(missings)\n",
    "        \n",
    "        \n",
    "    @staticmethod\n",
    "    def remove_empty(df, col):\n",
    "        return df.loc[df[col].apply(lambda x: len(x)) > 0, :]\n",
    "    \n",
    "       \n",
    "    def transform(self, X, col, **kwargs):\n",
    "        try:\n",
    "            X_local = X.copy()\n",
    "            X_local[col] = X_local[col].apply(self.prepare_text)\n",
    "            X_local = self.remove_empty(X_local, col)\n",
    "        except KeyError:\n",
    "            raise KeyError(\"{} not present in dataframe\".format(col))\n",
    "            \n",
    "        if not self.stemmed_dict:\n",
    "            self.apply_stemming(X_local[col])\n",
    "            \n",
    "        X_local[col] = X_local[col].apply(lambda doc: list(map(self.stemmed_dict.get, doc)))\n",
    "        X_local = X_local.reset_index(drop=True)\n",
    "        \n",
    "        return X_local"
   ]
  },
  {
   "cell_type": "code",
   "execution_count": 27,
   "metadata": {},
   "outputs": [],
   "source": [
    "STOPWORDS_PATH = 'data/polish_stopwords.csv'"
   ]
  },
  {
   "cell_type": "code",
   "execution_count": 34,
   "metadata": {},
   "outputs": [],
   "source": [
    "from pyMorfologik import Morfologik\n",
    "from pyMorfologik.parsing import ListParser\n",
    "\n",
    "parser = ListParser()\n",
    "stemmer = Morfologik()\n"
   ]
  },
  {
   "cell_type": "code",
   "execution_count": 28,
   "metadata": {},
   "outputs": [],
   "source": [
    "stopwords = list(pd.read_csv(STOPWORDS_PATH, engine='python', header=None).iloc[:, 0])"
   ]
  },
  {
   "cell_type": "code",
   "execution_count": null,
   "metadata": {},
   "outputs": [],
   "source": [
    "df = pd.read_csv('data/challenge_set_dlanas.csv', sep=';')"
   ]
  },
  {
   "cell_type": "code",
   "execution_count": 36,
   "metadata": {},
   "outputs": [],
   "source": [
    "scoring_set = TokenizedDataFrame(stopwords).transform(df, 'token')"
   ]
  },
  {
   "cell_type": "code",
   "execution_count": 39,
   "metadata": {
    "scrolled": true
   },
   "outputs": [],
   "source": [
    "y_true =  scoring_set['sentiment']"
   ]
  },
  {
   "cell_type": "code",
   "execution_count": 42,
   "metadata": {},
   "outputs": [],
   "source": [
    "def get_accuracy_score(pred, y_test):\n",
    "    return accuracy_score(y_test, pred)"
   ]
  },
  {
   "cell_type": "code",
   "execution_count": 2,
   "metadata": {},
   "outputs": [],
   "source": [
    "# evaluate"
   ]
  },
  {
   "cell_type": "code",
   "execution_count": 43,
   "metadata": {},
   "outputs": [],
   "source": [
    "files = os.listdir('wyniki')"
   ]
  },
  {
   "cell_type": "code",
   "execution_count": 44,
   "metadata": {},
   "outputs": [],
   "source": [
    "names = []\n",
    "results = []\n",
    "for file in files:\n",
    "    pred = np.load(f\"wyniki/{file}\")\n",
    "    results.append(get_accuracy_score(y_true, pred))\n",
    "    names.append(file)\n",
    "    "
   ]
  },
  {
   "cell_type": "code",
   "execution_count": 45,
   "metadata": {},
   "outputs": [
    {
     "name": "stdout",
     "output_type": "stream",
     "text": [
      "#0: rafal_test_lstm.npy\n",
      "#1: rafal_test.npy\n"
     ]
    }
   ],
   "source": [
    "order = np.argsort(results)[::-1]\n",
    "final = np.array(names)[order]\n",
    "for idx, name in enumerate(final):\n",
    "    print(f\"#{idx}: {name}\")"
   ]
  },
  {
   "cell_type": "code",
   "execution_count": null,
   "metadata": {},
   "outputs": [],
   "source": []
  }
 ],
 "metadata": {
  "kernelspec": {
   "display_name": "Python 3",
   "language": "python",
   "name": "python3"
  },
  "language_info": {
   "codemirror_mode": {
    "name": "ipython",
    "version": 3
   },
   "file_extension": ".py",
   "mimetype": "text/x-python",
   "name": "python",
   "nbconvert_exporter": "python",
   "pygments_lexer": "ipython3",
   "version": "3.7.0"
  }
 },
 "nbformat": 4,
 "nbformat_minor": 2
}
